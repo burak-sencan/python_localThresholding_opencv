{
 "cells": [
  {
   "cell_type": "code",
   "execution_count": 1,
   "id": "duplicate-radiation",
   "metadata": {},
   "outputs": [],
   "source": [
    "import cv2"
   ]
  },
  {
   "cell_type": "code",
   "execution_count": null,
   "id": "tough-minimum",
   "metadata": {},
   "outputs": [],
   "source": [
    "\n",
    "img = cv2.imread(\"metal3.jpg\",0)\n",
    "img_blc = cv2.imread(\"metal3.jpg\",0)\n",
    "w,h = img.shape\n",
    "print(\"w\",w,\"h\",h)\n",
    "\n",
    "cv2.imshow(\"orginal\",img)\n",
    "cv2.waitKey(0)"
   ]
  },
  {
   "cell_type": "code",
   "execution_count": 3,
   "id": "indonesian-junction",
   "metadata": {},
   "outputs": [
    {
     "data": {
      "text/plain": [
       "-1"
      ]
     },
     "execution_count": 3,
     "metadata": {},
     "output_type": "execute_result"
    }
   ],
   "source": [
    "import cv2\n",
    "size=10 #block size(kernel size)\n",
    "sensivite= 5 #gürültünün azaltılması için \n",
    "\n",
    "x1,x2=(0,size)\n",
    "y1,y2=(0,size)\n",
    "\n",
    "orjinal = cv2.imread(\"sayfa2.png\") #orjinal\n",
    "img = cv2.imread(\"sayfa2.png\",0)   #işlenecek görüntü\n",
    "img_blc = cv2.imread(\"sayfa2.png\") #bloklara ayrılmış görsel için  \n",
    "w,h = img.shape\n",
    "toplam=0\n",
    "\n",
    "\n",
    "\n",
    "for i in range(0,int(h/size)):\n",
    "    for j in range(0,int(w/size)):\n",
    "        #print(x1,x2,y1,y2)\n",
    "        #===================Local_threshold_val_bulunması=======================\n",
    "        for k in range(y1,y2):\n",
    "            for l in range(x1,x2):\n",
    "                #print(img[k][l])\n",
    "                toplam+=img[k][l]\n",
    "        \n",
    "        local_threshold = int(toplam/size**2)\n",
    "        #print(local_threshold)\n",
    "        \n",
    "        toplam=0\n",
    "        #=======================local_threshold_uygulaması=======================\n",
    "        \n",
    "        for k in range(y1,y2):\n",
    "            for l in range(x1,x2):\n",
    "                if img[k][l]>=local_threshold-sensivite:\n",
    "                    img[k][l]=255\n",
    "                else:\n",
    "                    img[k][l]=0\n",
    "\n",
    "         #=====================================================================\n",
    "        font_scale=size/100\n",
    "        cv2.rectangle(img_blc,(x1,y1),(x2,y2),(255,255,255),(1))\n",
    "        img_blc = cv2.putText(img_blc, str(local_threshold), \n",
    "                              (x1,int(y1+10+int(size/10))), \n",
    "                              cv2.FONT_HERSHEY_SIMPLEX, font_scale, \n",
    "                              (255,255,255), 1, cv2.LINE_AA)\n",
    "\n",
    "        x1+=size\n",
    "        x2+=size\n",
    "        if x2>w:\n",
    "            x1,x2=(0,size)\n",
    "    \n",
    "    y1+=size\n",
    "    y2+=size\n",
    "    if y2>h:\n",
    "        y1,y2=(0,size)\n",
    "\n",
    "\n",
    "cv2.imshow(\"orjinal\",orjinal)\n",
    "cv2.waitKey(0)\n",
    "\n",
    "\n",
    "\n",
    "size_text = str(size)+\"x\"+str(size)+\" px\"\n",
    "sens_text = str(sensivite)+\" sens.\"\n",
    "font = cv2.FONT_HERSHEY_SIMPLEX\n",
    "# org\n",
    "org = (0, 15)\n",
    "# fontScale\n",
    "fontScale =0.5\n",
    "# Blue color in BGR\n",
    "color = (0, 0, 255)\n",
    "# Line thickness of 2 px\n",
    "thickness = 1\n",
    "img_blc = cv2.putText(img_blc, size_text, org, font, fontScale, color, thickness, cv2.LINE_AA)\n",
    "img_blc = cv2.putText(img_blc, sens_text, (0,30), font, fontScale, color, thickness, cv2.LINE_AA)\n",
    "\n",
    "cv2.imshow(\"blocklu\",img_blc)\n",
    "cv2.waitKey(0)\n",
    "\n",
    "\n",
    "\n",
    "cv2.imshow(\"binary\",img)\n",
    "cv2.waitKey(0)\n"
   ]
  },
  {
   "cell_type": "code",
   "execution_count": null,
   "id": "seventh-intellectual",
   "metadata": {},
   "outputs": [],
   "source": []
  }
 ],
 "metadata": {
  "kernelspec": {
   "display_name": "Python 3",
   "language": "python",
   "name": "python3"
  },
  "language_info": {
   "codemirror_mode": {
    "name": "ipython",
    "version": 3
   },
   "file_extension": ".py",
   "mimetype": "text/x-python",
   "name": "python",
   "nbconvert_exporter": "python",
   "pygments_lexer": "ipython3",
   "version": "3.7.0"
  }
 },
 "nbformat": 4,
 "nbformat_minor": 5
}
